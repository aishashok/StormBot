{
 "cells": [
  {
   "cell_type": "markdown",
   "metadata": {
    "application/vnd.databricks.v1+cell": {
     "cellMetadata": {},
     "inputWidgets": {},
     "nuid": "bccd09de-98b1-46fa-b04d-e4998ff21a20",
     "showTitle": false,
     "title": ""
    }
   },
   "source": [
    "### Install modules:"
   ]
  },
  {
   "cell_type": "code",
   "execution_count": 0,
   "metadata": {
    "application/vnd.databricks.v1+cell": {
     "cellMetadata": {
      "byteLimit": 2048000,
      "rowLimit": 10000
     },
     "inputWidgets": {},
     "nuid": "cd693be2-b73b-42d5-afab-c06c4af93da9",
     "showTitle": false,
     "title": ""
    }
   },
   "outputs": [
    {
     "output_type": "stream",
     "name": "stdout",
     "output_type": "stream",
     "text": [
      "Python interpreter will be restarted.\nRequirement already satisfied: sentence-transformers in /local_disk0/.ephemeral_nfs/envs/pythonEnv-bff25f91-11eb-4d55-aee2-778bb3d5525c/lib/python3.9/site-packages (2.2.2)\nRequirement already satisfied: torchvision in /local_disk0/.ephemeral_nfs/envs/pythonEnv-bff25f91-11eb-4d55-aee2-778bb3d5525c/lib/python3.9/site-packages (from sentence-transformers) (0.15.2)\nRequirement already satisfied: numpy in /local_disk0/.ephemeral_nfs/cluster_libraries/python/lib/python3.9/site-packages (from sentence-transformers) (1.23.5)\nRequirement already satisfied: scipy in /local_disk0/.ephemeral_nfs/cluster_libraries/python/lib/python3.9/site-packages (from sentence-transformers) (1.9.1)\nRequirement already satisfied: torch>=1.6.0 in /local_disk0/.ephemeral_nfs/envs/pythonEnv-bff25f91-11eb-4d55-aee2-778bb3d5525c/lib/python3.9/site-packages (from sentence-transformers) (2.0.1)\nRequirement already satisfied: nltk in /local_disk0/.ephemeral_nfs/cluster_libraries/python/lib/python3.9/site-packages (from sentence-transformers) (3.8.1)\nRequirement already satisfied: transformers<5.0.0,>=4.6.0 in /local_disk0/.ephemeral_nfs/envs/pythonEnv-bff25f91-11eb-4d55-aee2-778bb3d5525c/lib/python3.9/site-packages (from sentence-transformers) (4.30.2)\nRequirement already satisfied: sentencepiece in /local_disk0/.ephemeral_nfs/envs/pythonEnv-bff25f91-11eb-4d55-aee2-778bb3d5525c/lib/python3.9/site-packages (from sentence-transformers) (0.1.99)\nRequirement already satisfied: scikit-learn in /local_disk0/.ephemeral_nfs/cluster_libraries/python/lib/python3.9/site-packages (from sentence-transformers) (1.2.2)\nRequirement already satisfied: huggingface-hub>=0.4.0 in /local_disk0/.ephemeral_nfs/envs/pythonEnv-bff25f91-11eb-4d55-aee2-778bb3d5525c/lib/python3.9/site-packages (from sentence-transformers) (0.15.1)\nRequirement already satisfied: tqdm in /local_disk0/.ephemeral_nfs/cluster_libraries/python/lib/python3.9/site-packages (from sentence-transformers) (4.65.0)\nRequirement already satisfied: pyyaml>=5.1 in /local_disk0/.ephemeral_nfs/cluster_libraries/python/lib/python3.9/site-packages (from huggingface-hub>=0.4.0->sentence-transformers) (6.0)\nRequirement already satisfied: typing-extensions>=3.7.4.3 in /local_disk0/.ephemeral_nfs/cluster_libraries/python/lib/python3.9/site-packages (from huggingface-hub>=0.4.0->sentence-transformers) (4.6.3)\nRequirement already satisfied: filelock in /usr/local/lib/python3.9/dist-packages (from huggingface-hub>=0.4.0->sentence-transformers) (3.8.0)\nRequirement already satisfied: fsspec in /local_disk0/.ephemeral_nfs/envs/pythonEnv-bff25f91-11eb-4d55-aee2-778bb3d5525c/lib/python3.9/site-packages (from huggingface-hub>=0.4.0->sentence-transformers) (2023.6.0)\nRequirement already satisfied: packaging>=20.9 in /local_disk0/.ephemeral_nfs/cluster_libraries/python/lib/python3.9/site-packages (from huggingface-hub>=0.4.0->sentence-transformers) (23.1)\nRequirement already satisfied: requests in /databricks/python3/lib/python3.9/site-packages (from huggingface-hub>=0.4.0->sentence-transformers) (2.26.0)\nRequirement already satisfied: nvidia-cuda-nvrtc-cu11==11.7.99 in /local_disk0/.ephemeral_nfs/envs/pythonEnv-bff25f91-11eb-4d55-aee2-778bb3d5525c/lib/python3.9/site-packages (from torch>=1.6.0->sentence-transformers) (11.7.99)\nRequirement already satisfied: jinja2 in /databricks/python3/lib/python3.9/site-packages (from torch>=1.6.0->sentence-transformers) (2.11.3)\nRequirement already satisfied: nvidia-curand-cu11==10.2.10.91 in /local_disk0/.ephemeral_nfs/envs/pythonEnv-bff25f91-11eb-4d55-aee2-778bb3d5525c/lib/python3.9/site-packages (from torch>=1.6.0->sentence-transformers) (10.2.10.91)\nRequirement already satisfied: nvidia-cuda-runtime-cu11==11.7.99 in /local_disk0/.ephemeral_nfs/envs/pythonEnv-bff25f91-11eb-4d55-aee2-778bb3d5525c/lib/python3.9/site-packages (from torch>=1.6.0->sentence-transformers) (11.7.99)\nRequirement already satisfied: nvidia-cuda-cupti-cu11==11.7.101 in /local_disk0/.ephemeral_nfs/envs/pythonEnv-bff25f91-11eb-4d55-aee2-778bb3d5525c/lib/python3.9/site-packages (from torch>=1.6.0->sentence-transformers) (11.7.101)\nRequirement already satisfied: nvidia-cusparse-cu11==11.7.4.91 in /local_disk0/.ephemeral_nfs/envs/pythonEnv-bff25f91-11eb-4d55-aee2-778bb3d5525c/lib/python3.9/site-packages (from torch>=1.6.0->sentence-transformers) (11.7.4.91)\nRequirement already satisfied: nvidia-cublas-cu11==11.10.3.66 in /local_disk0/.ephemeral_nfs/envs/pythonEnv-bff25f91-11eb-4d55-aee2-778bb3d5525c/lib/python3.9/site-packages (from torch>=1.6.0->sentence-transformers) (11.10.3.66)\nRequirement already satisfied: nvidia-cusolver-cu11==11.4.0.1 in /local_disk0/.ephemeral_nfs/envs/pythonEnv-bff25f91-11eb-4d55-aee2-778bb3d5525c/lib/python3.9/site-packages (from torch>=1.6.0->sentence-transformers) (11.4.0.1)\nRequirement already satisfied: nvidia-nccl-cu11==2.14.3 in /local_disk0/.ephemeral_nfs/envs/pythonEnv-bff25f91-11eb-4d55-aee2-778bb3d5525c/lib/python3.9/site-packages (from torch>=1.6.0->sentence-transformers) (2.14.3)\nRequirement already satisfied: triton==2.0.0 in /local_disk0/.ephemeral_nfs/envs/pythonEnv-bff25f91-11eb-4d55-aee2-778bb3d5525c/lib/python3.9/site-packages (from torch>=1.6.0->sentence-transformers) (2.0.0)\nRequirement already satisfied: sympy in /local_disk0/.ephemeral_nfs/envs/pythonEnv-bff25f91-11eb-4d55-aee2-778bb3d5525c/lib/python3.9/site-packages (from torch>=1.6.0->sentence-transformers) (1.12)\nRequirement already satisfied: nvidia-nvtx-cu11==11.7.91 in /local_disk0/.ephemeral_nfs/envs/pythonEnv-bff25f91-11eb-4d55-aee2-778bb3d5525c/lib/python3.9/site-packages (from torch>=1.6.0->sentence-transformers) (11.7.91)\nRequirement already satisfied: nvidia-cufft-cu11==10.9.0.58 in /local_disk0/.ephemeral_nfs/envs/pythonEnv-bff25f91-11eb-4d55-aee2-778bb3d5525c/lib/python3.9/site-packages (from torch>=1.6.0->sentence-transformers) (10.9.0.58)\nRequirement already satisfied: networkx in /local_disk0/.ephemeral_nfs/cluster_libraries/python/lib/python3.9/site-packages (from torch>=1.6.0->sentence-transformers) (3.1)\nRequirement already satisfied: nvidia-cudnn-cu11==8.5.0.96 in /local_disk0/.ephemeral_nfs/envs/pythonEnv-bff25f91-11eb-4d55-aee2-778bb3d5525c/lib/python3.9/site-packages (from torch>=1.6.0->sentence-transformers) (8.5.0.96)\nRequirement already satisfied: wheel in /databricks/python3/lib/python3.9/site-packages (from nvidia-cublas-cu11==11.10.3.66->torch>=1.6.0->sentence-transformers) (0.37.0)\nRequirement already satisfied: setuptools in /usr/local/lib/python3.9/dist-packages (from nvidia-cublas-cu11==11.10.3.66->torch>=1.6.0->sentence-transformers) (58.0.4)\nRequirement already satisfied: lit in /local_disk0/.ephemeral_nfs/envs/pythonEnv-bff25f91-11eb-4d55-aee2-778bb3d5525c/lib/python3.9/site-packages (from triton==2.0.0->torch>=1.6.0->sentence-transformers) (16.0.6)\nRequirement already satisfied: cmake in /local_disk0/.ephemeral_nfs/envs/pythonEnv-bff25f91-11eb-4d55-aee2-778bb3d5525c/lib/python3.9/site-packages (from triton==2.0.0->torch>=1.6.0->sentence-transformers) (3.26.4)\nRequirement already satisfied: safetensors>=0.3.1 in /local_disk0/.ephemeral_nfs/envs/pythonEnv-bff25f91-11eb-4d55-aee2-778bb3d5525c/lib/python3.9/site-packages (from transformers<5.0.0,>=4.6.0->sentence-transformers) (0.3.1)\nRequirement already satisfied: regex!=2019.12.17 in /local_disk0/.ephemeral_nfs/cluster_libraries/python/lib/python3.9/site-packages (from transformers<5.0.0,>=4.6.0->sentence-transformers) (2023.6.3)\nRequirement already satisfied: tokenizers!=0.11.3,<0.14,>=0.11.1 in /local_disk0/.ephemeral_nfs/envs/pythonEnv-bff25f91-11eb-4d55-aee2-778bb3d5525c/lib/python3.9/site-packages (from transformers<5.0.0,>=4.6.0->sentence-transformers) (0.13.3)\nRequirement already satisfied: MarkupSafe>=0.23 in /local_disk0/.ephemeral_nfs/cluster_libraries/python/lib/python3.9/site-packages (from jinja2->torch>=1.6.0->sentence-transformers) (2.0.1)\nRequirement already satisfied: click in /databricks/python3/lib/python3.9/site-packages (from nltk->sentence-transformers) (8.0.3)\nRequirement already satisfied: joblib in /local_disk0/.ephemeral_nfs/cluster_libraries/python/lib/python3.9/site-packages (from nltk->sentence-transformers) (1.2.0)\nRequirement already satisfied: idna<4,>=2.5 in /databricks/python3/lib/python3.9/site-packages (from requests->huggingface-hub>=0.4.0->sentence-transformers) (3.2)\nRequirement already satisfied: charset-normalizer~=2.0.0 in /databricks/python3/lib/python3.9/site-packages (from requests->huggingface-hub>=0.4.0->sentence-transformers) (2.0.4)\nRequirement already satisfied: urllib3<1.27,>=1.21.1 in /databricks/python3/lib/python3.9/site-packages (from requests->huggingface-hub>=0.4.0->sentence-transformers) (1.26.7)\nRequirement already satisfied: certifi>=2017.4.17 in /databricks/python3/lib/python3.9/site-packages (from requests->huggingface-hub>=0.4.0->sentence-transformers) (2021.10.8)\nRequirement already satisfied: threadpoolctl>=2.0.0 in /databricks/python3/lib/python3.9/site-packages (from scikit-learn->sentence-transformers) (2.2.0)\nRequirement already satisfied: mpmath>=0.19 in /local_disk0/.ephemeral_nfs/envs/pythonEnv-bff25f91-11eb-4d55-aee2-778bb3d5525c/lib/python3.9/site-packages (from sympy->torch>=1.6.0->sentence-transformers) (1.3.0)\nRequirement already satisfied: pillow!=8.3.*,>=5.3.0 in /local_disk0/.ephemeral_nfs/cluster_libraries/python/lib/python3.9/site-packages (from torchvision->sentence-transformers) (9.5.0)\nPython interpreter will be restarted.\n"
     ]
    }
   ],
   "source": [
    "pip install sentence-transformers"
   ]
  },
  {
   "cell_type": "code",
   "execution_count": 0,
   "metadata": {
    "application/vnd.databricks.v1+cell": {
     "cellMetadata": {
      "byteLimit": 2048000,
      "rowLimit": 10000
     },
     "inputWidgets": {},
     "nuid": "792e9d90-c962-483e-9166-4d6448eb88b4",
     "showTitle": false,
     "title": ""
    }
   },
   "outputs": [
    {
     "output_type": "stream",
     "name": "stdout",
     "output_type": "stream",
     "text": [
      "Python interpreter will be restarted.\nRequirement already satisfied: transformers in /local_disk0/.ephemeral_nfs/envs/pythonEnv-bff25f91-11eb-4d55-aee2-778bb3d5525c/lib/python3.9/site-packages (4.30.2)\nRequirement already satisfied: huggingface-hub<1.0,>=0.14.1 in /local_disk0/.ephemeral_nfs/envs/pythonEnv-bff25f91-11eb-4d55-aee2-778bb3d5525c/lib/python3.9/site-packages (from transformers) (0.15.1)\nRequirement already satisfied: packaging>=20.0 in /local_disk0/.ephemeral_nfs/cluster_libraries/python/lib/python3.9/site-packages (from transformers) (23.1)\nRequirement already satisfied: pyyaml>=5.1 in /local_disk0/.ephemeral_nfs/cluster_libraries/python/lib/python3.9/site-packages (from transformers) (6.0)\nRequirement already satisfied: safetensors>=0.3.1 in /local_disk0/.ephemeral_nfs/envs/pythonEnv-bff25f91-11eb-4d55-aee2-778bb3d5525c/lib/python3.9/site-packages (from transformers) (0.3.1)\nRequirement already satisfied: filelock in /usr/local/lib/python3.9/dist-packages (from transformers) (3.8.0)\nRequirement already satisfied: numpy>=1.17 in /local_disk0/.ephemeral_nfs/cluster_libraries/python/lib/python3.9/site-packages (from transformers) (1.23.5)\nRequirement already satisfied: regex!=2019.12.17 in /local_disk0/.ephemeral_nfs/cluster_libraries/python/lib/python3.9/site-packages (from transformers) (2023.6.3)\nRequirement already satisfied: tokenizers!=0.11.3,<0.14,>=0.11.1 in /local_disk0/.ephemeral_nfs/envs/pythonEnv-bff25f91-11eb-4d55-aee2-778bb3d5525c/lib/python3.9/site-packages (from transformers) (0.13.3)\nRequirement already satisfied: tqdm>=4.27 in /local_disk0/.ephemeral_nfs/cluster_libraries/python/lib/python3.9/site-packages (from transformers) (4.65.0)\nRequirement already satisfied: requests in /databricks/python3/lib/python3.9/site-packages (from transformers) (2.26.0)\nRequirement already satisfied: typing-extensions>=3.7.4.3 in /local_disk0/.ephemeral_nfs/cluster_libraries/python/lib/python3.9/site-packages (from huggingface-hub<1.0,>=0.14.1->transformers) (4.6.3)\nRequirement already satisfied: fsspec in /local_disk0/.ephemeral_nfs/envs/pythonEnv-bff25f91-11eb-4d55-aee2-778bb3d5525c/lib/python3.9/site-packages (from huggingface-hub<1.0,>=0.14.1->transformers) (2023.6.0)\nRequirement already satisfied: idna<4,>=2.5 in /databricks/python3/lib/python3.9/site-packages (from requests->transformers) (3.2)\nRequirement already satisfied: charset-normalizer~=2.0.0 in /databricks/python3/lib/python3.9/site-packages (from requests->transformers) (2.0.4)\nRequirement already satisfied: urllib3<1.27,>=1.21.1 in /databricks/python3/lib/python3.9/site-packages (from requests->transformers) (1.26.7)\nRequirement already satisfied: certifi>=2017.4.17 in /databricks/python3/lib/python3.9/site-packages (from requests->transformers) (2021.10.8)\nPython interpreter will be restarted.\n"
     ]
    }
   ],
   "source": [
    "pip install transformers"
   ]
  },
  {
   "cell_type": "code",
   "execution_count": 0,
   "metadata": {
    "application/vnd.databricks.v1+cell": {
     "cellMetadata": {
      "byteLimit": 2048000,
      "rowLimit": 10000
     },
     "inputWidgets": {},
     "nuid": "3bf14606-b3a9-4a24-b67d-4912655ad2a9",
     "showTitle": false,
     "title": ""
    }
   },
   "outputs": [
    {
     "output_type": "stream",
     "name": "stdout",
     "output_type": "stream",
     "text": [
      "Python interpreter will be restarted.\nRequirement already satisfied: torch in /local_disk0/.ephemeral_nfs/envs/pythonEnv-bff25f91-11eb-4d55-aee2-778bb3d5525c/lib/python3.9/site-packages (2.0.1)\nRequirement already satisfied: nvidia-cuda-nvrtc-cu11==11.7.99 in /local_disk0/.ephemeral_nfs/envs/pythonEnv-bff25f91-11eb-4d55-aee2-778bb3d5525c/lib/python3.9/site-packages (from torch) (11.7.99)\nRequirement already satisfied: jinja2 in /databricks/python3/lib/python3.9/site-packages (from torch) (2.11.3)\nRequirement already satisfied: filelock in /usr/local/lib/python3.9/dist-packages (from torch) (3.8.0)\nRequirement already satisfied: nvidia-curand-cu11==10.2.10.91 in /local_disk0/.ephemeral_nfs/envs/pythonEnv-bff25f91-11eb-4d55-aee2-778bb3d5525c/lib/python3.9/site-packages (from torch) (10.2.10.91)\nRequirement already satisfied: nvidia-cuda-runtime-cu11==11.7.99 in /local_disk0/.ephemeral_nfs/envs/pythonEnv-bff25f91-11eb-4d55-aee2-778bb3d5525c/lib/python3.9/site-packages (from torch) (11.7.99)\nRequirement already satisfied: nvidia-cuda-cupti-cu11==11.7.101 in /local_disk0/.ephemeral_nfs/envs/pythonEnv-bff25f91-11eb-4d55-aee2-778bb3d5525c/lib/python3.9/site-packages (from torch) (11.7.101)\nRequirement already satisfied: nvidia-cusparse-cu11==11.7.4.91 in /local_disk0/.ephemeral_nfs/envs/pythonEnv-bff25f91-11eb-4d55-aee2-778bb3d5525c/lib/python3.9/site-packages (from torch) (11.7.4.91)\nRequirement already satisfied: nvidia-cublas-cu11==11.10.3.66 in /local_disk0/.ephemeral_nfs/envs/pythonEnv-bff25f91-11eb-4d55-aee2-778bb3d5525c/lib/python3.9/site-packages (from torch) (11.10.3.66)\nRequirement already satisfied: nvidia-cusolver-cu11==11.4.0.1 in /local_disk0/.ephemeral_nfs/envs/pythonEnv-bff25f91-11eb-4d55-aee2-778bb3d5525c/lib/python3.9/site-packages (from torch) (11.4.0.1)\nRequirement already satisfied: nvidia-nccl-cu11==2.14.3 in /local_disk0/.ephemeral_nfs/envs/pythonEnv-bff25f91-11eb-4d55-aee2-778bb3d5525c/lib/python3.9/site-packages (from torch) (2.14.3)\nRequirement already satisfied: triton==2.0.0 in /local_disk0/.ephemeral_nfs/envs/pythonEnv-bff25f91-11eb-4d55-aee2-778bb3d5525c/lib/python3.9/site-packages (from torch) (2.0.0)\nRequirement already satisfied: typing-extensions in /local_disk0/.ephemeral_nfs/cluster_libraries/python/lib/python3.9/site-packages (from torch) (4.6.3)\nRequirement already satisfied: sympy in /local_disk0/.ephemeral_nfs/envs/pythonEnv-bff25f91-11eb-4d55-aee2-778bb3d5525c/lib/python3.9/site-packages (from torch) (1.12)\nRequirement already satisfied: nvidia-nvtx-cu11==11.7.91 in /local_disk0/.ephemeral_nfs/envs/pythonEnv-bff25f91-11eb-4d55-aee2-778bb3d5525c/lib/python3.9/site-packages (from torch) (11.7.91)\nRequirement already satisfied: nvidia-cufft-cu11==10.9.0.58 in /local_disk0/.ephemeral_nfs/envs/pythonEnv-bff25f91-11eb-4d55-aee2-778bb3d5525c/lib/python3.9/site-packages (from torch) (10.9.0.58)\nRequirement already satisfied: networkx in /local_disk0/.ephemeral_nfs/cluster_libraries/python/lib/python3.9/site-packages (from torch) (3.1)\nRequirement already satisfied: nvidia-cudnn-cu11==8.5.0.96 in /local_disk0/.ephemeral_nfs/envs/pythonEnv-bff25f91-11eb-4d55-aee2-778bb3d5525c/lib/python3.9/site-packages (from torch) (8.5.0.96)\nRequirement already satisfied: wheel in /databricks/python3/lib/python3.9/site-packages (from nvidia-cublas-cu11==11.10.3.66->torch) (0.37.0)\nRequirement already satisfied: setuptools in /usr/local/lib/python3.9/dist-packages (from nvidia-cublas-cu11==11.10.3.66->torch) (58.0.4)\nRequirement already satisfied: lit in /local_disk0/.ephemeral_nfs/envs/pythonEnv-bff25f91-11eb-4d55-aee2-778bb3d5525c/lib/python3.9/site-packages (from triton==2.0.0->torch) (16.0.6)\nRequirement already satisfied: cmake in /local_disk0/.ephemeral_nfs/envs/pythonEnv-bff25f91-11eb-4d55-aee2-778bb3d5525c/lib/python3.9/site-packages (from triton==2.0.0->torch) (3.26.4)\nRequirement already satisfied: MarkupSafe>=0.23 in /local_disk0/.ephemeral_nfs/cluster_libraries/python/lib/python3.9/site-packages (from jinja2->torch) (2.0.1)\nRequirement already satisfied: mpmath>=0.19 in /local_disk0/.ephemeral_nfs/envs/pythonEnv-bff25f91-11eb-4d55-aee2-778bb3d5525c/lib/python3.9/site-packages (from sympy->torch) (1.3.0)\nPython interpreter will be restarted.\n"
     ]
    }
   ],
   "source": [
    "pip install torch"
   ]
  },
  {
   "cell_type": "code",
   "execution_count": 0,
   "metadata": {
    "application/vnd.databricks.v1+cell": {
     "cellMetadata": {},
     "inputWidgets": {},
     "nuid": "cbf74335-e32b-4c08-8491-decf0b9dfbe7",
     "showTitle": false,
     "title": ""
    }
   },
   "outputs": [],
   "source": [
    "pip install gradio"
   ]
  },
  {
   "cell_type": "markdown",
   "metadata": {
    "application/vnd.databricks.v1+cell": {
     "cellMetadata": {},
     "inputWidgets": {},
     "nuid": "57620e6f-7e87-4f12-8e7b-d9cdc1d7e1ef",
     "showTitle": false,
     "title": ""
    }
   },
   "source": [
    "### Call out libraries:"
   ]
  },
  {
   "cell_type": "code",
   "execution_count": 0,
   "metadata": {
    "application/vnd.databricks.v1+cell": {
     "cellMetadata": {
      "byteLimit": 2048000,
      "rowLimit": 10000
     },
     "inputWidgets": {},
     "nuid": "56d34dce-6982-45da-baa6-b83ba845df7b",
     "showTitle": false,
     "title": ""
    }
   },
   "outputs": [
    {
     "output_type": "display_data",
     "data": {
      "application/vnd.databricks.v1+bamboolib_hint": "{\"pd.DataFrames\": [], \"version\": \"0.0.1\"}",
      "text/plain": []
     },
     "metadata": {},
     "output_type": "display_data"
    }
   ],
   "source": [
    "import transformers\n",
    "from transformers import pipeline\n",
    "import pandas as pd\n",
    "import re\n",
    "from sentence_transformers import SentenceTransformer, util\n",
    "import numpy as np\n",
    "\n",
    "from transformers import AutoModelForQuestionAnswering, AutoTokenizer, pipeline\n",
    "\n",
    "import gradio as gr"
   ]
  },
  {
   "cell_type": "markdown",
   "metadata": {
    "application/vnd.databricks.v1+cell": {
     "cellMetadata": {},
     "inputWidgets": {},
     "nuid": "09bd7e38-2f9a-4bdd-b1e9-277a8928aa09",
     "showTitle": false,
     "title": ""
    }
   },
   "source": [
    "### Define functions:"
   ]
  },
  {
   "cell_type": "code",
   "execution_count": 0,
   "metadata": {
    "application/vnd.databricks.v1+cell": {
     "cellMetadata": {
      "byteLimit": 2048000,
      "rowLimit": 10000
     },
     "inputWidgets": {},
     "nuid": "cd827400-10e4-4fcc-ba0a-1a2f28105573",
     "showTitle": false,
     "title": ""
    }
   },
   "outputs": [],
   "source": [
    "def text_clean(text):\n",
    "  try:\n",
    "    text = text.lower()\n",
    "    text = re.sub(r'https\\S+', '', text) # remove urls starting with https\n",
    "    text = re.sub(r'www\\S+', '', text) # remove urls starting with www\n",
    "    text = re.sub(r'\\S*@\\S*\\s?', '', text)# remove email address\n",
    "    text = re.sub(r\"[^\\w\\s]\", '',text) #remove puntucation\n",
    "    text = re.sub(r\"[0-9]\", '',text) #remove numbers\n",
    "    text = re.sub(r\"_\", \"\", text)\n",
    "    # define a list of names\n",
    "    pattern = r'\\b(?:' + '|'.join(re.escape(name) for name in names) + r')\\b'\n",
    "    text = re.sub(pattern, \"\", text)\n",
    "    text = re.sub(r\"\\s+\", ' ',text) #remove multiple space\n",
    "  except:\n",
    "    pass\n",
    "  return text"
   ]
  },
  {
   "cell_type": "code",
   "execution_count": 0,
   "metadata": {
    "application/vnd.databricks.v1+cell": {
     "cellMetadata": {},
     "inputWidgets": {},
     "nuid": "65b8930d-031f-4633-95e9-27b0a9cd174a",
     "showTitle": false,
     "title": ""
    }
   },
   "outputs": [],
   "source": [
    "def func(question):\n",
    "  result = nlp(question = question, context=context1)\n",
    "  return result['answer']\n"
   ]
  },
  {
   "cell_type": "markdown",
   "metadata": {
    "application/vnd.databricks.v1+cell": {
     "cellMetadata": {},
     "inputWidgets": {},
     "nuid": "09d71c26-7289-4604-8df0-b84305e3a187",
     "showTitle": false,
     "title": ""
    }
   },
   "source": [
    "### Read in Dataset"
   ]
  },
  {
   "cell_type": "code",
   "execution_count": 0,
   "metadata": {
    "application/vnd.databricks.v1+cell": {
     "cellMetadata": {
      "byteLimit": 2048000,
      "rowLimit": 10000
     },
     "inputWidgets": {},
     "nuid": "74c4a7e7-c34c-4a71-bbba-16fe1e9ecab0",
     "showTitle": false,
     "title": ""
    }
   },
   "outputs": [],
   "source": [
    "df = pd.read_csv(\"/dbfs/FileStore/Szhao/Xact_Data/hackthon/hurricane_data.csv\",encoding = 'unicode_escape')"
   ]
  },
  {
   "cell_type": "markdown",
   "metadata": {
    "application/vnd.databricks.v1+cell": {
     "cellMetadata": {},
     "inputWidgets": {},
     "nuid": "e2f409eb-b906-42d2-ae50-8765c40cbce9",
     "showTitle": false,
     "title": ""
    }
   },
   "source": [
    "# QA Bot"
   ]
  },
  {
   "cell_type": "code",
   "execution_count": 0,
   "metadata": {
    "application/vnd.databricks.v1+cell": {
     "cellMetadata": {
      "byteLimit": 2048000,
      "rowLimit": 10000
     },
     "inputWidgets": {},
     "nuid": "0cc1fe9c-1a73-4700-a645-c9ca6386ef52",
     "showTitle": false,
     "title": ""
    }
   },
   "outputs": [
    {
     "output_type": "stream",
     "name": "stdout",
     "output_type": "stream",
     "text": [
      "18396\n"
     ]
    }
   ],
   "source": [
    "##Select a smaller portion of the large dataset:\n",
    "index_keep = np.where(df['Retweets']>5)[0]\n",
    "print(len(index_keep))\n",
    "df_short = df.iloc[index_keep]"
   ]
  },
  {
   "cell_type": "code",
   "execution_count": 0,
   "metadata": {
    "application/vnd.databricks.v1+cell": {
     "cellMetadata": {
      "byteLimit": 2048000,
      "rowLimit": 10000
     },
     "inputWidgets": {},
     "nuid": "b39e20b8-f02c-4142-a6b1-6313d3a3cc68",
     "showTitle": false,
     "title": ""
    }
   },
   "outputs": [
    {
     "output_type": "stream",
     "name": "stdout",
     "output_type": "stream",
     "text": [
      "<command-1791734583084974>:1: SettingWithCopyWarning: \nA value is trying to be set on a copy of a slice from a DataFrame.\nTry using .loc[row_indexer,col_indexer] = value instead\n\nSee the caveats in the documentation: https://pandas.pydata.org/pandas-docs/stable/user_guide/indexing.html#returning-a-view-versus-a-copy\n  df_short['Tweet_Clean'] = df_short.Tweet.apply(text_clean)\n"
     ]
    }
   ],
   "source": [
    "## Clean the text\n",
    "df_short['Tweet_Clean'] = df_short.Tweet.apply(text_clean)\n",
    "\n",
    "df_short = df_short.dropna(axis='rows',subset=['Tweet_Clean'])"
   ]
  },
  {
   "cell_type": "code",
   "execution_count": 0,
   "metadata": {
    "application/vnd.databricks.v1+cell": {
     "cellMetadata": {
      "byteLimit": 2048000,
      "rowLimit": 10000
     },
     "inputWidgets": {},
     "nuid": "fd85e5b4-f8a6-424b-9e09-13e1186953b0",
     "showTitle": false,
     "title": ""
    }
   },
   "outputs": [],
   "source": [
    "context  = df_short[\"Tweet_Clean\"]\n",
    "context1 = \", \".join(context)"
   ]
  },
  {
   "cell_type": "markdown",
   "metadata": {
    "application/vnd.databricks.v1+cell": {
     "cellMetadata": {},
     "inputWidgets": {},
     "nuid": "57bc01e4-f470-449e-b058-ff682998c2a8",
     "showTitle": false,
     "title": ""
    }
   },
   "source": [
    "#### Run the model on the dataset:"
   ]
  },
  {
   "cell_type": "markdown",
   "metadata": {
    "application/vnd.databricks.v1+cell": {
     "cellMetadata": {
      "byteLimit": 2048000,
      "rowLimit": 10000
     },
     "inputWidgets": {},
     "nuid": "3146d482-107b-4291-a245-75e7d716a1a3",
     "showTitle": false,
     "title": ""
    }
   },
   "source": [
    "We have used the roBERTa model from Hugging Face. We have shown the first step in the process where we create Tokens."
   ]
  },
  {
   "cell_type": "code",
   "execution_count": 0,
   "metadata": {
    "application/vnd.databricks.v1+cell": {
     "cellMetadata": {
      "byteLimit": 2048000,
      "rowLimit": 10000
     },
     "inputWidgets": {},
     "nuid": "6fd01062-8b51-4406-b99d-a57c6a622733",
     "showTitle": false,
     "title": ""
    }
   },
   "outputs": [],
   "source": [
    "\n",
    "model_name = \"deepset/roberta-base-squad2\"\n",
    "\n",
    "# a) Get predictions\n",
    "nlp = pipeline('question-answering', model=model_name, tokenizer=model_name)\n",
    "# QA_input = {\n",
    "#     'question': 'Why is model conversion important?',\n",
    "#     'context': 'The option to convert models between FARM and transformers gives freedom to the user and let people easily switch between frameworks.'\n",
    "# }\n",
    "# res = nlp(QA_input)\n",
    "\n",
    "# b) Load model & tokenizer\n",
    "model = AutoModelForQuestionAnswering.from_pretrained(model_name)\n",
    "tokenizer = AutoTokenizer.from_pretrained(model_name)"
   ]
  },
  {
   "cell_type": "markdown",
   "metadata": {
    "application/vnd.databricks.v1+cell": {
     "cellMetadata": {},
     "inputWidgets": {},
     "nuid": "ead0f95f-3738-47a0-a521-fab5f4edce11",
     "showTitle": false,
     "title": ""
    }
   },
   "source": [
    "#Interface"
   ]
  },
  {
   "cell_type": "code",
   "execution_count": 0,
   "metadata": {
    "application/vnd.databricks.v1+cell": {
     "cellMetadata": {
      "byteLimit": 2048000,
      "rowLimit": 10000
     },
     "inputWidgets": {},
     "nuid": "8ef7350b-881d-4597-87a9-fcad376e5237",
     "showTitle": false,
     "title": ""
    }
   },
   "outputs": [],
   "source": [
    "# using context1 as input\n",
    "  app = gr.Interface(fn=func, inputs = ['textbox'], outputs = 'textbox', title = 'Question Answering', description = 'Input question, then get answers.')"
   ]
  },
  {
   "cell_type": "code",
   "execution_count": 0,
   "metadata": {
    "application/vnd.databricks.v1+cell": {
     "cellMetadata": {
      "byteLimit": 2048000,
      "rowLimit": 10000
     },
     "inputWidgets": {},
     "nuid": "07f1f91e-6e1e-4deb-9b5d-2935eedddd58",
     "showTitle": false,
     "title": ""
    }
   },
   "outputs": [
    {
     "output_type": "stream",
     "name": "stdout",
     "output_type": "stream",
     "text": [
      "Running on local URL:  http://127.0.0.1:7860\nRunning on public URL: https://ba19f6d6780a32b122.gradio.live\n\nThis share link expires in 72 hours. For free permanent hosting and GPU upgrades, run `gradio deploy` from Terminal to deploy to Spaces (https://huggingface.co/spaces)\n"
     ]
    },
    {
     "output_type": "display_data",
     "data": {
      "text/html": [
       "<div><iframe src=\"https://ba19f6d6780a32b122.gradio.live\" width=\"100%\" height=\"500\" allow=\"autoplay; camera; microphone; clipboard-read; clipboard-write;\" frameborder=\"0\" allowfullscreen></iframe></div>"
      ]
     },
     "metadata": {
      "application/vnd.databricks.v1+output": {
       "addedWidgets": {},
       "arguments": {},
       "data": "<div><iframe src=\"https://ba19f6d6780a32b122.gradio.live\" width=\"100%\" height=\"500\" allow=\"autoplay; camera; microphone; clipboard-read; clipboard-write;\" frameborder=\"0\" allowfullscreen></iframe></div>",
       "datasetInfos": [],
       "metadata": {},
       "removedWidgets": [],
       "textData": null,
       "type": "htmlSandbox"
      }
     },
     "output_type": "display_data"
    },
    {
     "output_type": "stream",
     "name": "stdout",
     "output_type": "stream",
     "text": [
      "Out[5]: "
     ]
    }
   ],
   "source": [
    "app.launch(share=True)"
   ]
  },
  {
   "cell_type": "code",
   "execution_count": 0,
   "metadata": {
    "application/vnd.databricks.v1+cell": {
     "cellMetadata": {
      "byteLimit": 2048000,
      "rowLimit": 10000
     },
     "inputWidgets": {},
     "nuid": "7a75121f-5c66-4b77-a0a4-d06fe48d8390",
     "showTitle": false,
     "title": ""
    }
   },
   "outputs": [
    {
     "output_type": "display_data",
     "data": {
      "text/plain": [
       "\u001B[0;31m---------------------------------------------------------------------------\u001B[0m\n",
       "\u001B[0;31mNameError\u001B[0m                                 Traceback (most recent call last)\n",
       "\u001B[0;32m<command-1791734583085123>\u001B[0m in \u001B[0;36m<cell line: 1>\u001B[0;34m()\u001B[0m\n",
       "\u001B[0;32m----> 1\u001B[0;31m \u001B[0mcontext1\u001B[0m\u001B[0;34m\u001B[0m\u001B[0;34m\u001B[0m\u001B[0m\n",
       "\u001B[0m\n",
       "\u001B[0;31mNameError\u001B[0m: name 'context1' is not defined"
      ]
     },
     "metadata": {
      "application/vnd.databricks.v1+output": {
       "arguments": {},
       "data": "\u001B[0;31m---------------------------------------------------------------------------\u001B[0m\n\u001B[0;31mNameError\u001B[0m                                 Traceback (most recent call last)\n\u001B[0;32m<command-1791734583085123>\u001B[0m in \u001B[0;36m<cell line: 1>\u001B[0;34m()\u001B[0m\n\u001B[0;32m----> 1\u001B[0;31m \u001B[0mcontext1\u001B[0m\u001B[0;34m\u001B[0m\u001B[0;34m\u001B[0m\u001B[0m\n\u001B[0m\n\u001B[0;31mNameError\u001B[0m: name 'context1' is not defined",
       "errorSummary": "<span class='ansi-red-fg'>NameError</span>: name 'context1' is not defined",
       "errorTraceType": "ansi",
       "metadata": {},
       "type": "ipynbError"
      }
     },
     "output_type": "display_data"
    }
   ],
   "source": [
    "context1"
   ]
  },
  {
   "cell_type": "code",
   "execution_count": 0,
   "metadata": {
    "application/vnd.databricks.v1+cell": {
     "cellMetadata": {},
     "inputWidgets": {},
     "nuid": "84b900d4-4ad4-4380-a369-65faebd59a4c",
     "showTitle": false,
     "title": ""
    }
   },
   "outputs": [],
   "source": []
  }
 ],
 "metadata": {
  "application/vnd.databricks.v1+notebook": {
   "dashboards": [],
   "language": "python",
   "notebookMetadata": {
    "mostRecentlyExecutedCommandWithImplicitDF": {
     "commandId": 1791734583084900,
     "dataframes": [
      "_sqldf"
     ]
    },
    "pythonIndentUnit": 2
   },
   "notebookName": "DAIS_Hackathon_StormBot",
   "widgets": {}
  }
 },
 "nbformat": 4,
 "nbformat_minor": 0
}
